{
 "cells": [
  {
   "cell_type": "markdown",
   "metadata": {},
   "source": [
    "# Micrograd \n",
    "\n",
    "Este notebook está basado en el video **\"[The spelled-out intro to neural networks and backpropagation: building micrograd](https://youtu.be/VMj-3S1tku0?si=VUGvwhSh3fSfze5d)\"**, donde explica el **backpropagation** (la mejor clase práctica, oro puro!)."
   ]
  },
  {
   "cell_type": "markdown",
   "metadata": {},
   "source": [
    "# **1. Value Class**"
   ]
  },
  {
   "cell_type": "markdown",
   "metadata": {},
   "source": [
    "Esta clase nos permitirá visualizar y computar el grafo para realizar el backpropagation. En términos simples, permite almacenar un valor escalar y su gradiente."
   ]
  },
  {
   "cell_type": "markdown",
   "metadata": {},
   "source": [
    "## **1.1 Value()**"
   ]
  },
  {
   "cell_type": "code",
   "execution_count": 7,
   "metadata": {},
   "outputs": [],
   "source": [
    "class Value:\n",
    "\n",
    "    def __init__(self, data, _children=(), _op='', label=''):\n",
    "        self.data = data \n",
    "        self._prev = set(_children)\n",
    "        self._op = _op # Nos permite saber si es una suma o multiplicación\n",
    "        self.label = label # Permite añadir una etiqueta al valor y poder mostrarlo en el grafo\n",
    "    \n",
    "    # Este método mágico permite mostrar por pantalla visualizar el valor asignado a la instancia\n",
    "    def __repr__(self):\n",
    "        return f\"Value(data={self.data})\"\n",
    "    \n",
    "    # Este método permite sumar clases del mismo tipo\n",
    "    def __add__(self, other):\n",
    "        out = Value(self.data + other.data, (self, other), '+')\n",
    "        return out\n",
    "    \n",
    "    # Este método permite multiplicar clases del mismo tipo\n",
    "    def __mul__(self, other):\n",
    "        out = Value(self.data * other.data, (self, other), '*')\n",
    "        return out "
   ]
  },
  {
   "cell_type": "markdown",
   "metadata": {},
   "source": [
    "* **_nombreVariable:** El guión bajo hace referencia de que la variable será un atributo privado, es decir, que no se puede acceder desde afuera al atributo."
   ]
  },
  {
   "cell_type": "code",
   "execution_count": 2,
   "metadata": {},
   "outputs": [],
   "source": [
    "a = Value(-2.0)\n",
    "b = Value(-3.0)"
   ]
  },
  {
   "cell_type": "code",
   "execution_count": 3,
   "metadata": {},
   "outputs": [
    {
     "data": {
      "text/plain": [
       "Value(data=6.0)"
      ]
     },
     "execution_count": 3,
     "metadata": {},
     "output_type": "execute_result"
    }
   ],
   "source": [
    "c = a * b\n",
    "c"
   ]
  },
  {
   "cell_type": "code",
   "execution_count": 19,
   "metadata": {},
   "outputs": [
    {
     "data": {
      "text/plain": [
       "{Value(data=-2.0), Value(data=-3.0)}"
      ]
     },
     "execution_count": 19,
     "metadata": {},
     "output_type": "execute_result"
    }
   ],
   "source": [
    "c._prev"
   ]
  },
  {
   "cell_type": "code",
   "execution_count": 22,
   "metadata": {},
   "outputs": [
    {
     "data": {
      "text/plain": [
       "''"
      ]
     },
     "execution_count": 22,
     "metadata": {},
     "output_type": "execute_result"
    }
   ],
   "source": [
    "c._op"
   ]
  },
  {
   "cell_type": "markdown",
   "metadata": {},
   "source": [
    "## **1.2 Graphviz**"
   ]
  },
  {
   "cell_type": "markdown",
   "metadata": {},
   "source": [
    "Para instalar **Graphviz** en windows se debe realizar del ejecutable ([página oficial](https://graphviz.org/download/)) y seleccionar el PATH \"Add Graphviz to system PATH for all users\"."
   ]
  },
  {
   "cell_type": "code",
   "execution_count": 10,
   "metadata": {},
   "outputs": [],
   "source": [
    "from graphviz import Digraph\n",
    "\n",
    "def trace(root):\n",
    "    nodes, edges = set(), set()\n",
    "    def build(v):\n",
    "        if v not in nodes:\n",
    "            nodes.add(v)\n",
    "            for child in v._prev:\n",
    "                edges.add((child, v))\n",
    "                build(child)\n",
    "    build(root)\n",
    "    return nodes, edges\n",
    "\n",
    "def draw_dot(root):\n",
    "    dot = Digraph(format='svg', graph_attr={'rankdir': 'LR'})\n",
    "\n",
    "    nodes, edges = trace(root)\n",
    "    for n in nodes:\n",
    "        uid = str(id(n))\n",
    "\n",
    "        dot.node(name=uid, label='{ %s | data %.4f}' % (n.label, n.data, ), shape='record')\n",
    "\n",
    "        if n._op:\n",
    "            dot.node(name = uid + n._op, label = n._op)\n",
    "            dot.edge(uid + n._op, uid)\n",
    "\n",
    "    for n1, n2 in edges:\n",
    "        dot.edge(str(id(n1)), str(id(n2)) + n2._op)\n",
    "\n",
    "    return dot"
   ]
  },
  {
   "cell_type": "code",
   "execution_count": 5,
   "metadata": {},
   "outputs": [
    {
     "data": {
      "image/svg+xml": [
       "<?xml version=\"1.0\" encoding=\"UTF-8\" standalone=\"no\"?>\n",
       "<!DOCTYPE svg PUBLIC \"-//W3C//DTD SVG 1.1//EN\"\n",
       " \"http://www.w3.org/Graphics/SVG/1.1/DTD/svg11.dtd\">\n",
       "<!-- Generated by graphviz version 12.2.1 (20241206.2353)\n",
       " -->\n",
       "<!-- Pages: 1 -->\n",
       "<svg width=\"298pt\" height=\"100pt\"\n",
       " viewBox=\"0.00 0.00 298.00 100.00\" xmlns=\"http://www.w3.org/2000/svg\" xmlns:xlink=\"http://www.w3.org/1999/xlink\">\n",
       "<g id=\"graph0\" class=\"graph\" transform=\"scale(1 1) rotate(0) translate(4 96)\">\n",
       "<polygon fill=\"white\" stroke=\"none\" points=\"-4,4 -4,-96 294,-96 294,4 -4,4\"/>\n",
       "<!-- 1543643616096 -->\n",
       "<g id=\"node1\" class=\"node\">\n",
       "<title>1543643616096</title>\n",
       "<polygon fill=\"none\" stroke=\"black\" points=\"0,-55.5 0,-91.5 84.25,-91.5 84.25,-55.5 0,-55.5\"/>\n",
       "<text text-anchor=\"middle\" x=\"42.12\" y=\"-68.7\" font-family=\"Times New Roman,serif\" font-size=\"14.00\">data &#45;2.0000</text>\n",
       "</g>\n",
       "<!-- 1543643621856* -->\n",
       "<g id=\"node4\" class=\"node\">\n",
       "<title>1543643621856*</title>\n",
       "<ellipse fill=\"none\" stroke=\"black\" cx=\"147.25\" cy=\"-45.5\" rx=\"27\" ry=\"18\"/>\n",
       "<text text-anchor=\"middle\" x=\"147.25\" y=\"-40.45\" font-family=\"Times New Roman,serif\" font-size=\"14.00\">*</text>\n",
       "</g>\n",
       "<!-- 1543643616096&#45;&gt;1543643621856* -->\n",
       "<g id=\"edge3\" class=\"edge\">\n",
       "<title>1543643616096&#45;&gt;1543643621856*</title>\n",
       "<path fill=\"none\" stroke=\"black\" d=\"M84.48,-62.27C93.18,-59.91 102.29,-57.43 110.76,-55.14\"/>\n",
       "<polygon fill=\"black\" stroke=\"black\" points=\"111.62,-58.53 120.35,-52.53 109.78,-51.77 111.62,-58.53\"/>\n",
       "</g>\n",
       "<!-- 1543643614272 -->\n",
       "<g id=\"node2\" class=\"node\">\n",
       "<title>1543643614272</title>\n",
       "<polygon fill=\"none\" stroke=\"black\" points=\"0,-0.5 0,-36.5 84.25,-36.5 84.25,-0.5 0,-0.5\"/>\n",
       "<text text-anchor=\"middle\" x=\"42.12\" y=\"-13.7\" font-family=\"Times New Roman,serif\" font-size=\"14.00\">data &#45;3.0000</text>\n",
       "</g>\n",
       "<!-- 1543643614272&#45;&gt;1543643621856* -->\n",
       "<g id=\"edge2\" class=\"edge\">\n",
       "<title>1543643614272&#45;&gt;1543643621856*</title>\n",
       "<path fill=\"none\" stroke=\"black\" d=\"M84.48,-29.33C93.11,-31.59 102.13,-33.95 110.54,-36.15\"/>\n",
       "<polygon fill=\"black\" stroke=\"black\" points=\"109.49,-39.49 120.05,-38.64 111.26,-32.72 109.49,-39.49\"/>\n",
       "</g>\n",
       "<!-- 1543643621856 -->\n",
       "<g id=\"node3\" class=\"node\">\n",
       "<title>1543643621856</title>\n",
       "<polygon fill=\"none\" stroke=\"black\" points=\"210.25,-27.5 210.25,-63.5 290,-63.5 290,-27.5 210.25,-27.5\"/>\n",
       "<text text-anchor=\"middle\" x=\"250.12\" y=\"-40.7\" font-family=\"Times New Roman,serif\" font-size=\"14.00\">data 6.0000</text>\n",
       "</g>\n",
       "<!-- 1543643621856*&#45;&gt;1543643621856 -->\n",
       "<g id=\"edge1\" class=\"edge\">\n",
       "<title>1543643621856*&#45;&gt;1543643621856</title>\n",
       "<path fill=\"none\" stroke=\"black\" d=\"M174.49,-45.5C181.96,-45.5 190.35,-45.5 198.74,-45.5\"/>\n",
       "<polygon fill=\"black\" stroke=\"black\" points=\"198.58,-49 208.58,-45.5 198.58,-42 198.58,-49\"/>\n",
       "</g>\n",
       "</g>\n",
       "</svg>\n"
      ],
      "text/plain": [
       "<graphviz.graphs.Digraph at 0x16768545db0>"
      ]
     },
     "execution_count": 5,
     "metadata": {},
     "output_type": "execute_result"
    }
   ],
   "source": [
    "draw_dot(c)"
   ]
  },
  {
   "cell_type": "code",
   "execution_count": 25,
   "metadata": {},
   "outputs": [
    {
     "data": {
      "text/plain": [
       "'+'"
      ]
     },
     "execution_count": 25,
     "metadata": {},
     "output_type": "execute_result"
    }
   ],
   "source": [
    "c = a * b\n",
    "d = c + a\n",
    "d._op"
   ]
  },
  {
   "cell_type": "markdown",
   "metadata": {},
   "source": [
    "## **1.3 Value Object y Visualización**"
   ]
  },
  {
   "cell_type": "code",
   "execution_count": 16,
   "metadata": {},
   "outputs": [
    {
     "data": {
      "text/plain": [
       "Value(data=-8.0)"
      ]
     },
     "execution_count": 16,
     "metadata": {},
     "output_type": "execute_result"
    }
   ],
   "source": [
    "a = Value(2.0, label='a')\n",
    "b = Value(-3.0, label='b')\n",
    "c = Value(10.0, label='c')\n",
    "e = a*b; e.label = 'e'\n",
    "d = e + c; d.label='d'\n",
    "f = Value(-2.0, label='f')\n",
    "L = d * f; L.label = 'L'\n",
    "L"
   ]
  },
  {
   "cell_type": "code",
   "execution_count": 17,
   "metadata": {},
   "outputs": [
    {
     "data": {
      "image/svg+xml": [
       "<?xml version=\"1.0\" encoding=\"UTF-8\" standalone=\"no\"?>\n",
       "<!DOCTYPE svg PUBLIC \"-//W3C//DTD SVG 1.1//EN\"\n",
       " \"http://www.w3.org/Graphics/SVG/1.1/DTD/svg11.dtd\">\n",
       "<!-- Generated by graphviz version 12.2.1 (20241206.2353)\n",
       " -->\n",
       "<!-- Pages: 1 -->\n",
       "<svg width=\"815pt\" height=\"128pt\"\n",
       " viewBox=\"0.00 0.00 814.75 128.00\" xmlns=\"http://www.w3.org/2000/svg\" xmlns:xlink=\"http://www.w3.org/1999/xlink\">\n",
       "<g id=\"graph0\" class=\"graph\" transform=\"scale(1 1) rotate(0) translate(4 124)\">\n",
       "<polygon fill=\"white\" stroke=\"none\" points=\"-4,4 -4,-124 810.75,-124 810.75,4 -4,4\"/>\n",
       "<!-- 1543643544064 -->\n",
       "<g id=\"node1\" class=\"node\">\n",
       "<title>1543643544064</title>\n",
       "<polygon fill=\"none\" stroke=\"black\" points=\"233,-83.5 233,-119.5 341.5,-119.5 341.5,-83.5 233,-83.5\"/>\n",
       "<text text-anchor=\"middle\" x=\"244\" y=\"-96.7\" font-family=\"Times New Roman,serif\" font-size=\"14.00\">c</text>\n",
       "<polyline fill=\"none\" stroke=\"black\" points=\"255,-84 255,-119.5\"/>\n",
       "<text text-anchor=\"middle\" x=\"298.25\" y=\"-96.7\" font-family=\"Times New Roman,serif\" font-size=\"14.00\">data 10.0000</text>\n",
       "</g>\n",
       "<!-- 1543643537680+ -->\n",
       "<g id=\"node4\" class=\"node\">\n",
       "<title>1543643537680+</title>\n",
       "<ellipse fill=\"none\" stroke=\"black\" cx=\"404.5\" cy=\"-73.5\" rx=\"27\" ry=\"18\"/>\n",
       "<text text-anchor=\"middle\" x=\"404.5\" y=\"-68.45\" font-family=\"Times New Roman,serif\" font-size=\"14.00\">+</text>\n",
       "</g>\n",
       "<!-- 1543643544064&#45;&gt;1543643537680+ -->\n",
       "<g id=\"edge7\" class=\"edge\">\n",
       "<title>1543643544064&#45;&gt;1543643537680+</title>\n",
       "<path fill=\"none\" stroke=\"black\" d=\"M341.83,-88.48C350.54,-86.37 359.37,-84.22 367.53,-82.24\"/>\n",
       "<polygon fill=\"black\" stroke=\"black\" points=\"368.16,-85.69 377.05,-79.93 366.51,-78.89 368.16,-85.69\"/>\n",
       "</g>\n",
       "<!-- 1543664298032 -->\n",
       "<g id=\"node2\" class=\"node\">\n",
       "<title>1543664298032</title>\n",
       "<polygon fill=\"none\" stroke=\"black\" points=\"0,-56.5 0,-92.5 107,-92.5 107,-56.5 0,-56.5\"/>\n",
       "<text text-anchor=\"middle\" x=\"11.38\" y=\"-69.7\" font-family=\"Times New Roman,serif\" font-size=\"14.00\">b</text>\n",
       "<polyline fill=\"none\" stroke=\"black\" points=\"22.75,-57 22.75,-92.5\"/>\n",
       "<text text-anchor=\"middle\" x=\"64.88\" y=\"-69.7\" font-family=\"Times New Roman,serif\" font-size=\"14.00\">data &#45;3.0000</text>\n",
       "</g>\n",
       "<!-- 1543643539840* -->\n",
       "<g id=\"node6\" class=\"node\">\n",
       "<title>1543643539840*</title>\n",
       "<ellipse fill=\"none\" stroke=\"black\" cx=\"170\" cy=\"-46.5\" rx=\"27\" ry=\"18\"/>\n",
       "<text text-anchor=\"middle\" x=\"170\" y=\"-41.45\" font-family=\"Times New Roman,serif\" font-size=\"14.00\">*</text>\n",
       "</g>\n",
       "<!-- 1543664298032&#45;&gt;1543643539840* -->\n",
       "<g id=\"edge8\" class=\"edge\">\n",
       "<title>1543664298032&#45;&gt;1543643539840*</title>\n",
       "<path fill=\"none\" stroke=\"black\" d=\"M107.39,-61.57C116.15,-59.42 125.05,-57.25 133.26,-55.24\"/>\n",
       "<polygon fill=\"black\" stroke=\"black\" points=\"133.97,-58.67 142.85,-52.89 132.3,-51.87 133.97,-58.67\"/>\n",
       "</g>\n",
       "<!-- 1543643537680 -->\n",
       "<g id=\"node3\" class=\"node\">\n",
       "<title>1543643537680</title>\n",
       "<polygon fill=\"none\" stroke=\"black\" points=\"468.62,-55.5 468.62,-91.5 571.12,-91.5 571.12,-55.5 468.62,-55.5\"/>\n",
       "<text text-anchor=\"middle\" x=\"480\" y=\"-68.7\" font-family=\"Times New Roman,serif\" font-size=\"14.00\">d</text>\n",
       "<polyline fill=\"none\" stroke=\"black\" points=\"491.38,-56 491.38,-91.5\"/>\n",
       "<text text-anchor=\"middle\" x=\"531.25\" y=\"-68.7\" font-family=\"Times New Roman,serif\" font-size=\"14.00\">data 4.0000</text>\n",
       "</g>\n",
       "<!-- 1543643530720* -->\n",
       "<g id=\"node9\" class=\"node\">\n",
       "<title>1543643530720*</title>\n",
       "<ellipse fill=\"none\" stroke=\"black\" cx=\"635.25\" cy=\"-45.5\" rx=\"27\" ry=\"18\"/>\n",
       "<text text-anchor=\"middle\" x=\"635.25\" y=\"-40.45\" font-family=\"Times New Roman,serif\" font-size=\"14.00\">*</text>\n",
       "</g>\n",
       "<!-- 1543643537680&#45;&gt;1543643530720* -->\n",
       "<g id=\"edge6\" class=\"edge\">\n",
       "<title>1543643537680&#45;&gt;1543643530720*</title>\n",
       "<path fill=\"none\" stroke=\"black\" d=\"M571.59,-60.97C580.67,-58.73 589.96,-56.44 598.51,-54.33\"/>\n",
       "<polygon fill=\"black\" stroke=\"black\" points=\"599.28,-57.74 608.14,-51.95 597.6,-50.95 599.28,-57.74\"/>\n",
       "</g>\n",
       "<!-- 1543643537680+&#45;&gt;1543643537680 -->\n",
       "<g id=\"edge1\" class=\"edge\">\n",
       "<title>1543643537680+&#45;&gt;1543643537680</title>\n",
       "<path fill=\"none\" stroke=\"black\" d=\"M431.8,-73.5C439.43,-73.5 448.11,-73.5 456.96,-73.5\"/>\n",
       "<polygon fill=\"black\" stroke=\"black\" points=\"456.68,-77 466.68,-73.5 456.68,-70 456.68,-77\"/>\n",
       "</g>\n",
       "<!-- 1543643539840 -->\n",
       "<g id=\"node5\" class=\"node\">\n",
       "<title>1543643539840</title>\n",
       "<polygon fill=\"none\" stroke=\"black\" points=\"234.12,-28.5 234.12,-64.5 340.38,-64.5 340.38,-28.5 234.12,-28.5\"/>\n",
       "<text text-anchor=\"middle\" x=\"245.12\" y=\"-41.7\" font-family=\"Times New Roman,serif\" font-size=\"14.00\">e</text>\n",
       "<polyline fill=\"none\" stroke=\"black\" points=\"256.12,-29 256.12,-64.5\"/>\n",
       "<text text-anchor=\"middle\" x=\"298.25\" y=\"-41.7\" font-family=\"Times New Roman,serif\" font-size=\"14.00\">data &#45;6.0000</text>\n",
       "</g>\n",
       "<!-- 1543643539840&#45;&gt;1543643537680+ -->\n",
       "<g id=\"edge5\" class=\"edge\">\n",
       "<title>1543643539840&#45;&gt;1543643537680+</title>\n",
       "<path fill=\"none\" stroke=\"black\" d=\"M340.82,-58.81C349.88,-60.94 359.11,-63.1 367.6,-65.09\"/>\n",
       "<polygon fill=\"black\" stroke=\"black\" points=\"366.63,-68.46 377.16,-67.33 368.22,-61.64 366.63,-68.46\"/>\n",
       "</g>\n",
       "<!-- 1543643539840*&#45;&gt;1543643539840 -->\n",
       "<g id=\"edge2\" class=\"edge\">\n",
       "<title>1543643539840*&#45;&gt;1543643539840</title>\n",
       "<path fill=\"none\" stroke=\"black\" d=\"M197.44,-46.5C205.1,-46.5 213.82,-46.5 222.73,-46.5\"/>\n",
       "<polygon fill=\"black\" stroke=\"black\" points=\"222.53,-50 232.53,-46.5 222.53,-43 222.53,-50\"/>\n",
       "</g>\n",
       "<!-- 1543643537344 -->\n",
       "<g id=\"node7\" class=\"node\">\n",
       "<title>1543643537344</title>\n",
       "<polygon fill=\"none\" stroke=\"black\" points=\"2.62,-1.5 2.62,-37.5 104.38,-37.5 104.38,-1.5 2.62,-1.5\"/>\n",
       "<text text-anchor=\"middle\" x=\"13.62\" y=\"-14.7\" font-family=\"Times New Roman,serif\" font-size=\"14.00\">a</text>\n",
       "<polyline fill=\"none\" stroke=\"black\" points=\"24.62,-2 24.62,-37.5\"/>\n",
       "<text text-anchor=\"middle\" x=\"64.5\" y=\"-14.7\" font-family=\"Times New Roman,serif\" font-size=\"14.00\">data 2.0000</text>\n",
       "</g>\n",
       "<!-- 1543643537344&#45;&gt;1543643539840* -->\n",
       "<g id=\"edge4\" class=\"edge\">\n",
       "<title>1543643537344&#45;&gt;1543643539840*</title>\n",
       "<path fill=\"none\" stroke=\"black\" d=\"M104.72,-31.34C114.16,-33.57 123.86,-35.86 132.78,-37.96\"/>\n",
       "<polygon fill=\"black\" stroke=\"black\" points=\"131.94,-41.36 142.48,-40.25 133.55,-34.54 131.94,-41.36\"/>\n",
       "</g>\n",
       "<!-- 1543643530720 -->\n",
       "<g id=\"node8\" class=\"node\">\n",
       "<title>1543643530720</title>\n",
       "<polygon fill=\"none\" stroke=\"black\" points=\"698.25,-27.5 698.25,-63.5 806.75,-63.5 806.75,-27.5 698.25,-27.5\"/>\n",
       "<text text-anchor=\"middle\" x=\"710.38\" y=\"-40.7\" font-family=\"Times New Roman,serif\" font-size=\"14.00\">L</text>\n",
       "<polyline fill=\"none\" stroke=\"black\" points=\"722.5,-28 722.5,-63.5\"/>\n",
       "<text text-anchor=\"middle\" x=\"764.62\" y=\"-40.7\" font-family=\"Times New Roman,serif\" font-size=\"14.00\">data &#45;8.0000</text>\n",
       "</g>\n",
       "<!-- 1543643530720*&#45;&gt;1543643530720 -->\n",
       "<g id=\"edge3\" class=\"edge\">\n",
       "<title>1543643530720*&#45;&gt;1543643530720</title>\n",
       "<path fill=\"none\" stroke=\"black\" d=\"M662.69,-45.5C669.91,-45.5 678.06,-45.5 686.43,-45.5\"/>\n",
       "<polygon fill=\"black\" stroke=\"black\" points=\"686.39,-49 696.39,-45.5 686.39,-42 686.39,-49\"/>\n",
       "</g>\n",
       "<!-- 1543643529712 -->\n",
       "<g id=\"node10\" class=\"node\">\n",
       "<title>1543643529712</title>\n",
       "<polygon fill=\"none\" stroke=\"black\" points=\"467.5,-0.5 467.5,-36.5 572.25,-36.5 572.25,-0.5 467.5,-0.5\"/>\n",
       "<text text-anchor=\"middle\" x=\"477.75\" y=\"-13.7\" font-family=\"Times New Roman,serif\" font-size=\"14.00\">f</text>\n",
       "<polyline fill=\"none\" stroke=\"black\" points=\"488,-1 488,-36.5\"/>\n",
       "<text text-anchor=\"middle\" x=\"530.12\" y=\"-13.7\" font-family=\"Times New Roman,serif\" font-size=\"14.00\">data &#45;2.0000</text>\n",
       "</g>\n",
       "<!-- 1543643529712&#45;&gt;1543643530720* -->\n",
       "<g id=\"edge9\" class=\"edge\">\n",
       "<title>1543643529712&#45;&gt;1543643530720*</title>\n",
       "<path fill=\"none\" stroke=\"black\" d=\"M572.59,-30.81C581.32,-32.89 590.21,-35.01 598.42,-36.97\"/>\n",
       "<polygon fill=\"black\" stroke=\"black\" points=\"597.48,-40.34 608.02,-39.25 599.1,-33.53 597.48,-40.34\"/>\n",
       "</g>\n",
       "</g>\n",
       "</svg>\n"
      ],
      "text/plain": [
       "<graphviz.graphs.Digraph at 0x16769a167d0>"
      ]
     },
     "execution_count": 17,
     "metadata": {},
     "output_type": "execute_result"
    }
   ],
   "source": [
    "draw_dot(L)"
   ]
  },
  {
   "cell_type": "markdown",
   "metadata": {},
   "source": [
    "### **1.3.1 Calcular la derivada de cada nodo**\n",
    "\n",
    "A continaución, se calculará la derivada de cada nodo con respecto a L. Se realizarán los siguientes procedimientos:\n",
    "\n",
    "1. Calcular la derivada de L con respecto a L ($\\frac{\\mathrm{d}' L}{\\mathrm{d} L}$).\n",
    "2. Calcular la derivada de ($\\frac{\\mathrm{d}' L}{\\mathrm{d} f}$).\n",
    "3. Calcular la derivada de ($\\frac{\\mathrm{d}' L}{\\mathrm{d} d}$).\n",
    "4. Calcular la derivada de ($\\frac{\\mathrm{d}' L}{\\mathrm{d} e}$).\n",
    "5. Calcular la derivada de ($\\frac{\\mathrm{d}' L}{\\mathrm{d} c}$).\n",
    "6. Calcular la derivada de ($\\frac{\\mathrm{d}' L}{\\mathrm{d} b}$).\n",
    "7. Calcular la derivada de ($\\frac{\\mathrm{d}' L}{\\mathrm{d} a}$).\n"
   ]
  },
  {
   "cell_type": "markdown",
   "metadata": {},
   "source": [
    "Recordemos la definición de límite:\n",
    "\n",
    "$$\n",
    "f'(x) = \\lim\\limits_{h\\rightarrow 0}\\frac{f(x+h) - f(x)}{h}\n",
    "$$"
   ]
  },
  {
   "cell_type": "code",
   "execution_count": null,
   "metadata": {},
   "outputs": [],
   "source": []
  }
 ],
 "metadata": {
  "kernelspec": {
   "display_name": "programacion_2",
   "language": "python",
   "name": "python3"
  },
  "language_info": {
   "codemirror_mode": {
    "name": "ipython",
    "version": 3
   },
   "file_extension": ".py",
   "mimetype": "text/x-python",
   "name": "python",
   "nbconvert_exporter": "python",
   "pygments_lexer": "ipython3",
   "version": "3.10.16"
  }
 },
 "nbformat": 4,
 "nbformat_minor": 2
}
