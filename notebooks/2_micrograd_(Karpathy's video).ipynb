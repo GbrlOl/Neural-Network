{
 "cells": [
  {
   "cell_type": "markdown",
   "metadata": {},
   "source": [
    "# Micrograd \n",
    "\n",
    "Este notebook está basado en el video **\"[The spelled-out intro to neural networks and backpropagation: building micrograd](https://youtu.be/VMj-3S1tku0?si=VUGvwhSh3fSfze5d)\"**, donde explica el **backpropagation** (la mejor clase práctica, oro puro!)."
   ]
  },
  {
   "cell_type": "markdown",
   "metadata": {},
   "source": [
    "# **1. Value Class**"
   ]
  },
  {
   "cell_type": "markdown",
   "metadata": {},
   "source": [
    "Esta clase nos permitirá visualizar y computar el grafo para realizar el backpropagation. En términos simples, permite almacenar un valor escalar y su gradiente."
   ]
  },
  {
   "cell_type": "markdown",
   "metadata": {},
   "source": [
    "## **1.1 Value()**"
   ]
  },
  {
   "cell_type": "code",
   "execution_count": 1,
   "metadata": {},
   "outputs": [],
   "source": [
    "class Value:\n",
    "\n",
    "    def __init__(self, data, _children=(), _op=''):\n",
    "        self.data = data \n",
    "        self._prev = set(_children)\n",
    "        self._op = _op # Nos permite saber si es una suma o multiplicación\n",
    "    \n",
    "    # Este método mágico permite mostrar por pantalla visualizar el valor asignado a la instancia\n",
    "    def __repr__(self):\n",
    "        return f\"Value(data={self.data})\"\n",
    "    \n",
    "    # Este método permite sumar clases del mismo tipo\n",
    "    def __add__(self, other):\n",
    "        out = Value(self.data + other.data, (self, other), '+')\n",
    "        return out\n",
    "    \n",
    "    # Este método permite multiplicar clases del mismo tipo\n",
    "    def __mul__(self, other):\n",
    "        out = Value(self.data * other.data, (self, other), '*')\n",
    "        return out "
   ]
  },
  {
   "cell_type": "markdown",
   "metadata": {},
   "source": [
    "* **_nombreVariable:** El guión bajo hace referencia de que la variable será un atributo privado, es decir, que no se puede acceder desde afuera al atributo."
   ]
  },
  {
   "cell_type": "code",
   "execution_count": 2,
   "metadata": {},
   "outputs": [],
   "source": [
    "a = Value(-2.0)\n",
    "b = Value(-3.0)"
   ]
  },
  {
   "cell_type": "code",
   "execution_count": 3,
   "metadata": {},
   "outputs": [
    {
     "data": {
      "text/plain": [
       "Value(data=6.0)"
      ]
     },
     "execution_count": 3,
     "metadata": {},
     "output_type": "execute_result"
    }
   ],
   "source": [
    "c = a * b\n",
    "c"
   ]
  },
  {
   "cell_type": "code",
   "execution_count": 19,
   "metadata": {},
   "outputs": [
    {
     "data": {
      "text/plain": [
       "{Value(data=-2.0), Value(data=-3.0)}"
      ]
     },
     "execution_count": 19,
     "metadata": {},
     "output_type": "execute_result"
    }
   ],
   "source": [
    "c._prev"
   ]
  },
  {
   "cell_type": "code",
   "execution_count": 22,
   "metadata": {},
   "outputs": [
    {
     "data": {
      "text/plain": [
       "''"
      ]
     },
     "execution_count": 22,
     "metadata": {},
     "output_type": "execute_result"
    }
   ],
   "source": [
    "c._op"
   ]
  },
  {
   "cell_type": "markdown",
   "metadata": {},
   "source": [
    "## **1.2 Graphviz**"
   ]
  },
  {
   "cell_type": "markdown",
   "metadata": {},
   "source": [
    "Para instalar **Graphviz** en windows se debe realizar del ejecutable ([página oficial](https://graphviz.org/download/)) y seleccionar el PATH \"Add Graphviz to system PATH for all users\"."
   ]
  },
  {
   "cell_type": "code",
   "execution_count": 4,
   "metadata": {},
   "outputs": [],
   "source": [
    "from graphviz import Digraph\n",
    "\n",
    "def trace(root):\n",
    "    nodes, edges = set(), set()\n",
    "    def build(v):\n",
    "        if v not in nodes:\n",
    "            nodes.add(v)\n",
    "            for child in v._prev:\n",
    "                edges.add((child, v))\n",
    "                build(child)\n",
    "    build(root)\n",
    "    return nodes, edges\n",
    "\n",
    "def draw_dot(root):\n",
    "    dot = Digraph(format='svg', graph_attr={'rankdir': 'LR'})\n",
    "\n",
    "    nodes, edges = trace(root)\n",
    "    for n in nodes:\n",
    "        uid = str(id(n))\n",
    "\n",
    "        dot.node(name=uid, label='{ data %.4f}' % (n.data, ), shape='record')\n",
    "\n",
    "        if n._op:\n",
    "            dot.node(name = uid + n._op, label = n._op)\n",
    "            dot.edge(uid + n._op, uid)\n",
    "\n",
    "    for n1, n2 in edges:\n",
    "        dot.edge(str(id(n1)), str(id(n2)) + n2._op)\n",
    "\n",
    "    return dot"
   ]
  },
  {
   "cell_type": "code",
   "execution_count": 5,
   "metadata": {},
   "outputs": [
    {
     "data": {
      "image/svg+xml": [
       "<?xml version=\"1.0\" encoding=\"UTF-8\" standalone=\"no\"?>\n",
       "<!DOCTYPE svg PUBLIC \"-//W3C//DTD SVG 1.1//EN\"\n",
       " \"http://www.w3.org/Graphics/SVG/1.1/DTD/svg11.dtd\">\n",
       "<!-- Generated by graphviz version 12.2.1 (20241206.2353)\n",
       " -->\n",
       "<!-- Pages: 1 -->\n",
       "<svg width=\"298pt\" height=\"100pt\"\n",
       " viewBox=\"0.00 0.00 298.00 100.00\" xmlns=\"http://www.w3.org/2000/svg\" xmlns:xlink=\"http://www.w3.org/1999/xlink\">\n",
       "<g id=\"graph0\" class=\"graph\" transform=\"scale(1 1) rotate(0) translate(4 96)\">\n",
       "<polygon fill=\"white\" stroke=\"none\" points=\"-4,4 -4,-96 294,-96 294,4 -4,4\"/>\n",
       "<!-- 1543643616096 -->\n",
       "<g id=\"node1\" class=\"node\">\n",
       "<title>1543643616096</title>\n",
       "<polygon fill=\"none\" stroke=\"black\" points=\"0,-55.5 0,-91.5 84.25,-91.5 84.25,-55.5 0,-55.5\"/>\n",
       "<text text-anchor=\"middle\" x=\"42.12\" y=\"-68.7\" font-family=\"Times New Roman,serif\" font-size=\"14.00\">data &#45;2.0000</text>\n",
       "</g>\n",
       "<!-- 1543643621856* -->\n",
       "<g id=\"node4\" class=\"node\">\n",
       "<title>1543643621856*</title>\n",
       "<ellipse fill=\"none\" stroke=\"black\" cx=\"147.25\" cy=\"-45.5\" rx=\"27\" ry=\"18\"/>\n",
       "<text text-anchor=\"middle\" x=\"147.25\" y=\"-40.45\" font-family=\"Times New Roman,serif\" font-size=\"14.00\">*</text>\n",
       "</g>\n",
       "<!-- 1543643616096&#45;&gt;1543643621856* -->\n",
       "<g id=\"edge3\" class=\"edge\">\n",
       "<title>1543643616096&#45;&gt;1543643621856*</title>\n",
       "<path fill=\"none\" stroke=\"black\" d=\"M84.48,-62.27C93.18,-59.91 102.29,-57.43 110.76,-55.14\"/>\n",
       "<polygon fill=\"black\" stroke=\"black\" points=\"111.62,-58.53 120.35,-52.53 109.78,-51.77 111.62,-58.53\"/>\n",
       "</g>\n",
       "<!-- 1543643614272 -->\n",
       "<g id=\"node2\" class=\"node\">\n",
       "<title>1543643614272</title>\n",
       "<polygon fill=\"none\" stroke=\"black\" points=\"0,-0.5 0,-36.5 84.25,-36.5 84.25,-0.5 0,-0.5\"/>\n",
       "<text text-anchor=\"middle\" x=\"42.12\" y=\"-13.7\" font-family=\"Times New Roman,serif\" font-size=\"14.00\">data &#45;3.0000</text>\n",
       "</g>\n",
       "<!-- 1543643614272&#45;&gt;1543643621856* -->\n",
       "<g id=\"edge2\" class=\"edge\">\n",
       "<title>1543643614272&#45;&gt;1543643621856*</title>\n",
       "<path fill=\"none\" stroke=\"black\" d=\"M84.48,-29.33C93.11,-31.59 102.13,-33.95 110.54,-36.15\"/>\n",
       "<polygon fill=\"black\" stroke=\"black\" points=\"109.49,-39.49 120.05,-38.64 111.26,-32.72 109.49,-39.49\"/>\n",
       "</g>\n",
       "<!-- 1543643621856 -->\n",
       "<g id=\"node3\" class=\"node\">\n",
       "<title>1543643621856</title>\n",
       "<polygon fill=\"none\" stroke=\"black\" points=\"210.25,-27.5 210.25,-63.5 290,-63.5 290,-27.5 210.25,-27.5\"/>\n",
       "<text text-anchor=\"middle\" x=\"250.12\" y=\"-40.7\" font-family=\"Times New Roman,serif\" font-size=\"14.00\">data 6.0000</text>\n",
       "</g>\n",
       "<!-- 1543643621856*&#45;&gt;1543643621856 -->\n",
       "<g id=\"edge1\" class=\"edge\">\n",
       "<title>1543643621856*&#45;&gt;1543643621856</title>\n",
       "<path fill=\"none\" stroke=\"black\" d=\"M174.49,-45.5C181.96,-45.5 190.35,-45.5 198.74,-45.5\"/>\n",
       "<polygon fill=\"black\" stroke=\"black\" points=\"198.58,-49 208.58,-45.5 198.58,-42 198.58,-49\"/>\n",
       "</g>\n",
       "</g>\n",
       "</svg>\n"
      ],
      "text/plain": [
       "<graphviz.graphs.Digraph at 0x16768545db0>"
      ]
     },
     "execution_count": 5,
     "metadata": {},
     "output_type": "execute_result"
    }
   ],
   "source": [
    "draw_dot(c)"
   ]
  },
  {
   "cell_type": "code",
   "execution_count": 25,
   "metadata": {},
   "outputs": [
    {
     "data": {
      "text/plain": [
       "'+'"
      ]
     },
     "execution_count": 25,
     "metadata": {},
     "output_type": "execute_result"
    }
   ],
   "source": [
    "c = a * b\n",
    "d = c + a\n",
    "d._op"
   ]
  }
 ],
 "metadata": {
  "kernelspec": {
   "display_name": "programacion_2",
   "language": "python",
   "name": "python3"
  },
  "language_info": {
   "codemirror_mode": {
    "name": "ipython",
    "version": 3
   },
   "file_extension": ".py",
   "mimetype": "text/x-python",
   "name": "python",
   "nbconvert_exporter": "python",
   "pygments_lexer": "ipython3",
   "version": "3.10.16"
  }
 },
 "nbformat": 4,
 "nbformat_minor": 2
}
