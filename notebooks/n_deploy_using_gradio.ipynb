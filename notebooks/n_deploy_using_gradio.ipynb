{
 "cells": [
  {
   "cell_type": "code",
   "execution_count": 52,
   "metadata": {},
   "outputs": [],
   "source": [
    "import torchvision.transforms as transforms\n",
    "import torch\n",
    "\n",
    "transform_to_gray = transforms.Compose([\n",
    "    transforms.Resize((200,200)),\n",
    "    transforms.Grayscale(num_output_channels=1),  # Convertir a escala de grises\n",
    "    transforms.ConvertImageDtype(dtype=torch.float32)  # Convertir a flotante si es necesario\n",
    "])\n",
    "\n",
    "image = transform_to_gray(tensor)"
   ]
  },
  {
   "cell_type": "code",
   "execution_count": 55,
   "metadata": {},
   "outputs": [],
   "source": [
    "holi = image.unsqueeze(0)"
   ]
  },
  {
   "cell_type": "code",
   "execution_count": 56,
   "metadata": {},
   "outputs": [
    {
     "data": {
      "text/plain": [
       "4"
      ]
     },
     "execution_count": 56,
     "metadata": {},
     "output_type": "execute_result"
    }
   ],
   "source": [
    "holi.ndim"
   ]
  },
  {
   "cell_type": "code",
   "execution_count": 59,
   "metadata": {},
   "outputs": [
    {
     "data": {
      "image/png": "[encoded data removed]",
      "text/plain": [
       "<Figure size 640x480 with 1 Axes>"
      ]
     },
     "metadata": {},
     "output_type": "display_data"
    }
   ],
   "source": [
    "otra = holi.squeeze()\n",
    "\n",
    "plt.imshow(otra, cmap='gray')\n",
    "plt.savefig(\"test.png\")"
   ]
  },
  {
   "cell_type": "code",
   "execution_count": 50,
   "metadata": {},
   "outputs": [],
   "source": [
    "import torch \n",
    "from torchvision.transforms import Resize\n",
    "\n",
    "tensor = torch.from_numpy(lista[0]['composite'][:,:,3]).unsqueeze(0)\n",
    "# tensor = torch.\n",
    "# plt.imshow(tensor, cmap='gray')"
   ]
  },
  {
   "cell_type": "code",
   "execution_count": 51,
   "metadata": {},
   "outputs": [
    {
     "data": {
      "text/plain": [
       "tensor([[[255, 255, 255,  ...,   0,   0,   0],\n",
       "         [255, 255, 255,  ...,   0,   0,   0],\n",
       "         [255, 255, 255,  ...,   0,   0,   0],\n",
       "         ...,\n",
       "         [  0,   0,   0,  ...,   0,   0,   0],\n",
       "         [  0,   0,   0,  ...,   0,   0,   0],\n",
       "         [  0,   0,   0,  ...,   0,   0,   0]]], dtype=torch.uint8)"
      ]
     },
     "execution_count": 51,
     "metadata": {},
     "output_type": "execute_result"
    }
   ],
   "source": [
    "tensor"
   ]
  },
  {
   "cell_type": "code",
   "execution_count": 40,
   "metadata": {},
   "outputs": [
    {
     "data": {
      "text/plain": [
       "tensor([[[255, 255, 255,  ...,   0,   0,   0],\n",
       "         [255, 255, 255,  ...,   0,   0,   0],\n",
       "         [255, 255, 255,  ...,   0,   0,   0],\n",
       "         ...,\n",
       "         [  0,   0,   0,  ...,   0,   0,   0],\n",
       "         [  0,   0,   0,  ...,   0,   0,   0],\n",
       "         [  0,   0,   0,  ...,   0,   0,   0]]], dtype=torch.uint8)"
      ]
     },
     "execution_count": 40,
     "metadata": {},
     "output_type": "execute_result"
    }
   ],
   "source": [
    "tensor.unsqueeze(0)"
   ]
  },
  {
   "cell_type": "code",
   "execution_count": 43,
   "metadata": {},
   "outputs": [
    {
     "data": {
      "text/plain": [
       "3"
      ]
     },
     "execution_count": 43,
     "metadata": {},
     "output_type": "execute_result"
    }
   ],
   "source": [
    "tensor.ndim"
   ]
  },
  {
   "cell_type": "code",
   "execution_count": 44,
   "metadata": {},
   "outputs": [],
   "source": [
    "modificar_size = Resize((200,200))\n",
    "tensor_modificado = modificar_size(tensor)"
   ]
  },
  {
   "cell_type": "code",
   "execution_count": 45,
   "metadata": {},
   "outputs": [
    {
     "data": {
      "text/plain": [
       "tensor([[[255, 255, 255,  ...,   0,   0,   0],\n",
       "         [255, 255, 255,  ...,   0,   0,   0],\n",
       "         [255, 255, 255,  ...,   0,   0,   0],\n",
       "         ...,\n",
       "         [  0,   0,   0,  ...,   0,   0,   0],\n",
       "         [  0,   0,   0,  ...,   0,   0,   0],\n",
       "         [  0,   0,   0,  ...,   0,   0,   0]]], dtype=torch.uint8)"
      ]
     },
     "execution_count": 45,
     "metadata": {},
     "output_type": "execute_result"
    }
   ],
   "source": [
    "tensor_modificado"
   ]
  },
  {
   "cell_type": "code",
   "execution_count": 26,
   "metadata": {},
   "outputs": [
    {
     "data": {
      "text/plain": [
       "torch.uint8"
      ]
     },
     "execution_count": 26,
     "metadata": {},
     "output_type": "execute_result"
    }
   ],
   "source": [
    "tensor.dtype"
   ]
  },
  {
   "cell_type": "code",
   "execution_count": 11,
   "metadata": {},
   "outputs": [],
   "source": [
    "import torch.nn as nn\n",
    "import torch.nn.functional as F\n",
    "import torchvision.transforms as transforms\n",
    "import torch\n",
    "import matplotlib.pyplot as plt\n",
    "\n",
    "class CNN(nn.Module):\n",
    "  def __init__(self, in_channels=1, num_classes=4):\n",
    "    super(CNN, self).__init__()\n",
    "    self.conv1 = nn.Conv2d(in_channels=1, out_channels=8, kernel_size=(3,3), stride=(1,1), padding=(1,1))\n",
    "    self.pool = nn.MaxPool2d(kernel_size=(2,2), stride=(2,2))\n",
    "    self.conv2 = nn.Conv2d(in_channels=8, out_channels=16, kernel_size=(3,3), stride=(1,1), padding=(1,1))\n",
    "    # self.fc1 = nn.Linear(16*7*7, num_classes)\n",
    "    self.fc1 = nn.Linear(200*200, num_classes)\n",
    "\n",
    "  def forward(self, x):\n",
    "    x = F.relu(self.conv1(x))\n",
    "    x = self.pool(x)\n",
    "    x = F.relu(self.conv2(x))\n",
    "    x = self.pool(x)\n",
    "    x = x.reshape(x.shape[0], -1)\n",
    "    x = self.fc1(x)\n",
    "    return x"
   ]
  },
  {
   "cell_type": "code",
   "execution_count": 8,
   "metadata": {},
   "outputs": [
    {
     "data": {
      "text/plain": [
       "<All keys matched successfully>"
      ]
     },
     "execution_count": 8,
     "metadata": {},
     "output_type": "execute_result"
    }
   ],
   "source": [
    "model = CNN()\n",
    "model.load_state_dict(torch.load('gabriel_modelo.pth', map_location=torch.device('cpu')))"
   ]
  },
  {
   "cell_type": "code",
   "execution_count": 9,
   "metadata": {},
   "outputs": [],
   "source": [
    "def inference(model, imagen, device=\"cpu\"):\n",
    "    label_mapping = {0: \"círculo\", 1: \"triángulo\", 2: \"cuadrado\", 3: \"estrella\"}\n",
    "\n",
    "    model.eval()  # Ponemos el modelo en modo evaluación\n",
    "\n",
    "    # Realizar la inferencia\n",
    "    with torch.no_grad():\n",
    "        scores = model(imagen)\n",
    "        _, prediction = scores.max(1)\n",
    "        label_predicho = prediction.item()\n",
    "\n",
    "    # Obtener nombres de etiquetas\n",
    "    # label_real_name = label_mapping.get(label_real, \"Desconocido\")\n",
    "    label_predicho_name = label_mapping.get(label_predicho, \"Desconocido\")\n",
    "\n",
    "    # model.train()  # Restauramos el modelo a modo entrenamiento\n",
    "    \n",
    "    return label_predicho_name"
   ]
  },
  {
   "cell_type": "code",
   "execution_count": null,
   "metadata": {},
   "outputs": [],
   "source": [
    "import numpy as np\n",
    "\n",
    "def predict(img):  \n",
    "    # 1º: Recibimos un diccionario con 3 keys(), dentro contienen distintos arrays, accedemos al array de nuestro interés\n",
    "    # Cabe indicar que el tamaño del array es de (800,800)\n",
    "    image_array = img['composite'][:,:,3]\n",
    "    image_array = 255 - image_array\n",
    "\n",
    "    # listita.append(image_array)\n",
    "    # 2º: Convertirmos el array a un tensor, el cual tendrá un ndim=2 y dtype=uint8. Debemos agregar dos dimensiones y convertir de uint8 a float32\n",
    "    #     Utilizando unsqueeze(0) agregamos una dimensión, para que quede de la siguiente forma (1,800,800)\n",
    "    image_tensor = torch.from_numpy(image_array).unsqueeze(0)\n",
    "\n",
    "    # 3º: Debemos seguir modificando las dimensiones para que queden de la forma en que se entrenó el modelo \n",
    "    # a) El modelo recibe un tensor con ndim=4, dtype=torch.float32 y un shape=(64, 1, 200, 200)\n",
    "    transform_to_gray = transforms.Compose([\n",
    "    transforms.Resize((200,200)),\n",
    "    # transforms.Grayscale(num_output_channels=1),  # Convertir a escala de grises\n",
    "    transforms.ConvertImageDtype(dtype=torch.float32)  # Convertir a flotante si es necesario\n",
    "    ])\n",
    "\n",
    "    image = transform_to_gray(image_tensor)\n",
    "\n",
    "    # 4º: Agregamos la útlima dimensión:\n",
    "    image = image.unsqueeze(0)\n",
    "\n",
    "    # 5º: Hacemos la inferencia\n",
    "    label_predict = inference(model, image, device=\"cpu\")\n",
    "    print(label_predict)\n",
    "\n",
    "    # 6º: Convertimos la imagen devuelta\n",
    "    img_devuelta = image.squeeze()\n",
    "    plt.imshow(img_devuelta, cmap=\"gray\")\n",
    "    plt.title(f\"Predicción: {label_predict}\")\n",
    "    plt.axis(\"off\")\n",
    "    plt.savefig(f\"Predicción {label_predict}.png\")\n",
    "\n",
    "    return label_predict"
   ]
  },
  {
   "cell_type": "code",
   "execution_count": null,
   "metadata": {},
   "outputs": [
    {
     "name": "stderr",
     "output_type": "stream",
     "text": [
      "c:\\Users\\gol_m\\anaconda3\\envs\\programacion_2\\lib\\site-packages\\gradio\\components\\image_editor.py:253: UserWarning: `crop_size` parameter is deprecated. Please use `canvas_size` instead.\n",
      "  warnings.warn(\n"
     ]
    },
    {
     "name": "stdout",
     "output_type": "stream",
     "text": [
      "* Running on local URL:  http://127.0.0.1:7862\n",
      "\n",
      "To create a public link, set `share=True` in `launch()`.\n"
     ]
    },
    {
     "data": {
      "text/html": [
       "<div><iframe src=\"http://127.0.0.1:7862/\" width=\"100%\" height=\"500\" allow=\"autoplay; camera; microphone; clipboard-read; clipboard-write;\" frameborder=\"0\" allowfullscreen></iframe></div>"
      ],
      "text/plain": [
       "<IPython.core.display.HTML object>"
      ]
     },
     "metadata": {},
     "output_type": "display_data"
    },
    {
     "data": {
      "text/plain": []
     },
     "execution_count": 12,
     "metadata": {},
     "output_type": "execute_result"
    },
    {
     "name": "stdout",
     "output_type": "stream",
     "text": [
      "triángulo\n",
      "triángulo\n",
      "triángulo\n",
      "triángulo\n"
     ]
    }
   ],
   "source": [
    "import gradio as gr\n",
    "\n",
    "with gr.Blocks() as demo:\n",
    "    with gr.Row():\n",
    "        im = gr.Sketchpad(\n",
    "            type=\"numpy\",\n",
    "            crop_size=\"1:1\",\n",
    "            # image_mode='L',\n",
    "            # layers=True\n",
    "        )\n",
    "        im_preview = gr.Image()\n",
    "\n",
    "        out = gr.Label()\n",
    "\n",
    "    im.change(predict, outputs=im_preview, inputs=im, show_progress=\"hidden\")\n",
    "\n",
    "demo.launch(share=False, debug=False)"
   ]
  },
  {
   "cell_type": "code",
   "execution_count": null,
   "metadata": {},
   "outputs": [],
   "source": [
    "# 1º: Recibimos un diccionario con 3 keys(), dentro contienen distintos arrays, accedemos al array de nuestro interés\n",
    "# Cabe indicar que el tamaño del array es de (800,800)\n",
    "image_array = img['composite'][:,:,3]\n",
    "listita.append(image_array)\n",
    "# 2º: Convertirmos el array a un tensor, el cual tendrá un ndim=2 y dtype=uint8. Debemos agregar dos dimensiones y convertir de uint8 a float32\n",
    "#     Utilizando unsqueeze(0) agregamos una dimensión, para que quede de la siguiente forma (1,800,800)\n",
    "image_tensor = torch.from_numpy(image_array).unsqueeze(0)\n",
    "\n",
    "# 3º: Debemos seguir modificando las dimensiones para que queden de la forma en que se entrenó el modelo \n",
    "# a) El modelo recibe un tensor con ndim=4, dtype=torch.float32 y un shape=(64, 1, 200, 200)\n",
    "transform_to_gray = transforms.Compose([\n",
    "transforms.Resize((200,200)),\n",
    "# transforms.Grayscale(num_output_channels=1),  # Convertir a escala de grises\n",
    "transforms.ConvertImageDtype(dtype=torch.float32)  # Convertir a flotante si es necesario\n",
    "])\n",
    "\n",
    "image = transform_to_gray(image_tensor)\n",
    "\n",
    "# 4º: Agregamos la útlima dimensión:\n",
    "image = image.unsqueeze(0)\n",
    "\n",
    "# 5º: Hacemos la inferencia\n",
    "label_predict = inference(model, image, device=\"cpu\")\n",
    "print(label_predict)\n",
    "\n",
    "img_devuelta = image.squeeze()\n",
    "plt.imshow(img_devuelta, cmap=\"gray\")\n",
    "plt.title(f\"Predicción: {label_predict}\")\n",
    "plt.axis(\"off\")\n",
    "plt.savefig(\"image.png\")"
   ]
  },
  {
   "cell_type": "code",
   "execution_count": null,
   "metadata": {},
   "outputs": [],
   "source": []
  }
 ],
 "metadata": {
  "kernelspec": {
   "display_name": "programacion_2",
   "language": "python",
   "name": "python3"
  },
  "language_info": {
   "codemirror_mode": {
    "name": "ipython",
    "version": 3
   },
   "file_extension": ".py",
   "mimetype": "text/x-python",
   "name": "python",
   "nbconvert_exporter": "python",
   "pygments_lexer": "ipython3",
   "version": "3.10.16"
  }
 },
 "nbformat": 4,
 "nbformat_minor": 2
}
