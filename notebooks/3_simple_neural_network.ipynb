{
 "cells": [
  {
   "cell_type": "markdown",
   "metadata": {},
   "source": [
    "# **Simple Neural Network**"
   ]
  },
  {
   "cell_type": "markdown",
   "metadata": {},
   "source": [
    "![nn2](../assets/nn_2.jpg)"
   ]
  },
  {
   "cell_type": "code",
   "execution_count": 1,
   "metadata": {},
   "outputs": [],
   "source": [
    "import torch\n",
    "from torch import nn"
   ]
  },
  {
   "cell_type": "code",
   "execution_count": 43,
   "metadata": {},
   "outputs": [
    {
     "data": {
      "text/plain": [
       "tensor([2., 3.])"
      ]
     },
     "execution_count": 43,
     "metadata": {},
     "output_type": "execute_result"
    }
   ],
   "source": [
    "input_feature = torch.tensor([2,3], dtype=torch.float32)\n",
    "input_feature"
   ]
  },
  {
   "cell_type": "code",
   "execution_count": 63,
   "metadata": {},
   "outputs": [
    {
     "name": "stdout",
     "output_type": "stream",
     "text": [
      "Pesos Layer 1\n",
      "\n",
      " Parameter containing:\n",
      "tensor([[ 0.4670, -0.5288],\n",
      "        [ 0.5762,  0.4524],\n",
      "        [ 0.5941, -0.5421]], requires_grad=True)\n",
      "Bias Layer 1\n",
      "\n",
      " Parameter containing:\n",
      "tensor([-0.4746,  0.3365, -0.6601], requires_grad=True)\n",
      "\n",
      "Pesos Layer 2\n",
      "\n",
      " Parameter containing:\n",
      "tensor([[ 0.5706,  0.1229,  0.0746],\n",
      "        [-0.4937,  0.1840,  0.2483]], requires_grad=True)\n",
      "Bias Layer 2\n",
      "\n",
      " Parameter containing:\n",
      "tensor([0.0916, 0.5553], requires_grad=True)\n",
      "\n",
      "Pesos Out Layer\n",
      "\n",
      " Parameter containing:\n",
      "tensor([[ 0.2124, -0.6270]], requires_grad=True)\n",
      "Bias Out Layer\n",
      "\n",
      " Parameter containing:\n",
      "tensor([0.5941], requires_grad=True)\n"
     ]
    }
   ],
   "source": [
    "torch.manual_seed(5)\n",
    "\n",
    "linear_1 = nn.Linear(2,3, bias=True)\n",
    "print(\"Pesos Layer 1\\n\\n\",linear_1.weight)\n",
    "print(\"Bias Layer 1\\n\\n\",linear_1.bias)\n",
    "\n",
    "linear_2 = nn.Linear(3,2, bias=True)\n",
    "print(\"\\nPesos Layer 2\\n\\n\",linear_2.weight)\n",
    "print(\"Bias Layer 2\\n\\n\",linear_2.bias)\n",
    "\n",
    "out = nn.Linear(2, 1, bias=True)\n",
    "print(\"\\nPesos Out Layer\\n\\n\",out.weight)\n",
    "print(\"Bias Out Layer\\n\\n\",out.bias)"
   ]
  },
  {
   "cell_type": "code",
   "execution_count": 40,
   "metadata": {},
   "outputs": [
    {
     "data": {
      "text/plain": [
       "Parameter containing:\n",
       "tensor([-0.4746,  0.3365, -0.6601], requires_grad=True)"
      ]
     },
     "execution_count": 40,
     "metadata": {},
     "output_type": "execute_result"
    }
   ],
   "source": [
    "linear_1.bias"
   ]
  },
  {
   "cell_type": "code",
   "execution_count": null,
   "metadata": {},
   "outputs": [
    {
     "data": {
      "text/plain": [
       "tensor([-1.1268,  2.8463, -1.0983], grad_fn=<AddBackward0>)"
      ]
     },
     "execution_count": 48,
     "metadata": {},
     "output_type": "execute_result"
    }
   ],
   "source": [
    "# z11 = W\n",
    "z11 = linear_1.weight @ input_feature + linear_1.bias\n",
    "z11"
   ]
  },
  {
   "cell_type": "code",
   "execution_count": null,
   "metadata": {},
   "outputs": [
    {
     "data": {
      "text/plain": [
       "tensor([0.0000, 2.8463, 0.0000], grad_fn=<ReluBackward0>)"
      ]
     },
     "execution_count": 55,
     "metadata": {},
     "output_type": "execute_result"
    }
   ],
   "source": [
    "# Ahora pasamos por la relu\n",
    "z11 = torch.relu(z11)\n",
    "z11"
   ]
  },
  {
   "cell_type": "code",
   "execution_count": null,
   "metadata": {},
   "outputs": [
    {
     "data": {
      "text/plain": [
       "tensor([0.0000, 2.8463, 0.0000], grad_fn=<ReluBackward0>)"
      ]
     },
     "execution_count": 56,
     "metadata": {},
     "output_type": "execute_result"
    }
   ],
   "source": [
    "# Otra forma de obtener la salida de la capa 1 más rápido\n",
    "z11_2 = torch.relu(linear_1(input_feature))\n",
    "z11_2"
   ]
  },
  {
   "cell_type": "code",
   "execution_count": 61,
   "metadata": {},
   "outputs": [
    {
     "data": {
      "text/plain": [
       "tensor([0.4414, 1.0790], grad_fn=<ReluBackward0>)"
      ]
     },
     "execution_count": 61,
     "metadata": {},
     "output_type": "execute_result"
    }
   ],
   "source": [
    "z_capa_2 = torch.relu(linear_2.weight @ z11 + linear_2.bias)\n",
    "z_capa_2"
   ]
  },
  {
   "cell_type": "code",
   "execution_count": 64,
   "metadata": {},
   "outputs": [
    {
     "data": {
      "text/plain": [
       "tensor([0.0113], grad_fn=<AddBackward0>)"
      ]
     },
     "execution_count": 64,
     "metadata": {},
     "output_type": "execute_result"
    }
   ],
   "source": [
    "y_out = out.weight @ z_capa_2 + out.bias \n",
    "y_out"
   ]
  },
  {
   "cell_type": "code",
   "execution_count": 66,
   "metadata": {},
   "outputs": [
    {
     "data": {
      "text/plain": [
       "0.01132036000000003"
      ]
     },
     "execution_count": 66,
     "metadata": {},
     "output_type": "execute_result"
    }
   ],
   "source": [
    "0.2124*0.4414-0.6270*1.0790+0.5941"
   ]
  }
 ],
 "metadata": {
  "kernelspec": {
   "display_name": "programacion_2",
   "language": "python",
   "name": "python3"
  },
  "language_info": {
   "codemirror_mode": {
    "name": "ipython",
    "version": 3
   },
   "file_extension": ".py",
   "mimetype": "text/x-python",
   "name": "python",
   "nbconvert_exporter": "python",
   "pygments_lexer": "ipython3",
   "version": "3.10.16"
  }
 },
 "nbformat": 4,
 "nbformat_minor": 2
}
